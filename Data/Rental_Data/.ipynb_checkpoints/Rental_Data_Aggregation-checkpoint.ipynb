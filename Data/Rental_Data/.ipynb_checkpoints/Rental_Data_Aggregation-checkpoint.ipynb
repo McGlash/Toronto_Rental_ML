{
 "cells": [
  {
   "cell_type": "code",
   "execution_count": 10,
   "metadata": {},
   "outputs": [],
   "source": [
    "# libraries\n",
    "import pandas as pd"
   ]
  },
  {
   "cell_type": "code",
   "execution_count": 259,
   "metadata": {},
   "outputs": [],
   "source": [
    "#read Json file\n",
    "\n",
    "df = pd.read_json(\"availableRental.json\")"
   ]
  },
  {
   "cell_type": "code",
   "execution_count": 310,
   "metadata": {},
   "outputs": [
    {
     "data": {
      "text/html": [
       "<div>\n",
       "<style scoped>\n",
       "    .dataframe tbody tr th:only-of-type {\n",
       "        vertical-align: middle;\n",
       "    }\n",
       "\n",
       "    .dataframe tbody tr th {\n",
       "        vertical-align: top;\n",
       "    }\n",
       "\n",
       "    .dataframe thead th {\n",
       "        text-align: right;\n",
       "    }\n",
       "</style>\n",
       "<table border=\"1\" class=\"dataframe\">\n",
       "  <thead>\n",
       "    <tr style=\"text-align: right;\">\n",
       "      <th></th>\n",
       "      <th>FSA</th>\n",
       "      <th>bathrooms</th>\n",
       "      <th>bedrooms</th>\n",
       "      <th>description</th>\n",
       "      <th>furnished</th>\n",
       "      <th>id</th>\n",
       "      <th>image</th>\n",
       "      <th>lat</th>\n",
       "      <th>long</th>\n",
       "      <th>pet_friendly</th>\n",
       "      <th>post_published_date</th>\n",
       "      <th>postal_code</th>\n",
       "      <th>price</th>\n",
       "      <th>rental_type</th>\n",
       "      <th>source</th>\n",
       "      <th>sqft</th>\n",
       "      <th>title</th>\n",
       "      <th>url</th>\n",
       "      <th>first</th>\n",
       "    </tr>\n",
       "  </thead>\n",
       "  <tbody>\n",
       "    <tr>\n",
       "      <th>0</th>\n",
       "      <td>M6R</td>\n",
       "      <td>2</td>\n",
       "      <td>2</td>\n",
       "      <td>2BR / 2Ba available oct 1 loft w/d in unit car...</td>\n",
       "      <td>None</td>\n",
       "      <td>c_7200538781</td>\n",
       "      <td>https://images.craigslist.org/00Z0Z_betPb5YXm1...</td>\n",
       "      <td>43.652602</td>\n",
       "      <td>-79.447028</td>\n",
       "      <td>False</td>\n",
       "      <td>2020-09-21</td>\n",
       "      <td>M6R 3A2</td>\n",
       "      <td>4500</td>\n",
       "      <td>loft</td>\n",
       "      <td>craigslist</td>\n",
       "      <td></td>\n",
       "      <td>RONCESVALLES-2 BED/2 BATH/1 PARKING-MORROW AVE</td>\n",
       "      <td>https://toronto.craigslist.org/tor/apa/d/toron...</td>\n",
       "      <td>M</td>\n",
       "    </tr>\n",
       "    <tr>\n",
       "      <th>1</th>\n",
       "      <td>M4C</td>\n",
       "      <td>1</td>\n",
       "      <td>2</td>\n",
       "      <td>2BR / 1Ba available now duplex w/d in unit/ 2b...</td>\n",
       "      <td>None</td>\n",
       "      <td>c_7200537147</td>\n",
       "      <td>https://images.craigslist.org/00J0J_fmjnKOiOAS...</td>\n",
       "      <td>43.691300</td>\n",
       "      <td>-79.311600</td>\n",
       "      <td>False</td>\n",
       "      <td>2020-09-21</td>\n",
       "      <td>M4C 5J7</td>\n",
       "      <td>2150</td>\n",
       "      <td>duplex</td>\n",
       "      <td>craigslist</td>\n",
       "      <td></td>\n",
       "      <td>2 Bedroom Upper Floor Unit for Lease - Woodbin...</td>\n",
       "      <td>https://toronto.craigslist.org/tor/apa/d/east-...</td>\n",
       "      <td>M</td>\n",
       "    </tr>\n",
       "    <tr>\n",
       "      <th>2</th>\n",
       "      <td>M6H</td>\n",
       "      <td>1.5</td>\n",
       "      <td>2</td>\n",
       "      <td>2BR / 1.5Ba 1200ft2 available oct 1 cats are O...</td>\n",
       "      <td>None</td>\n",
       "      <td>c_7200474055</td>\n",
       "      <td>https://images.craigslist.org/00k0k_8VUSONV0S6...</td>\n",
       "      <td>43.657080</td>\n",
       "      <td>-79.443491</td>\n",
       "      <td>True</td>\n",
       "      <td>2020-09-21</td>\n",
       "      <td>M6H 4A2</td>\n",
       "      <td>2850</td>\n",
       "      <td>apartment</td>\n",
       "      <td>craigslist</td>\n",
       "      <td>1200</td>\n",
       "      <td>Brockton Village Main and 2nd Floor Apartment</td>\n",
       "      <td>https://toronto.craigslist.org/tor/apa/d/toron...</td>\n",
       "      <td>M</td>\n",
       "    </tr>\n",
       "    <tr>\n",
       "      <th>3</th>\n",
       "      <td>M5G</td>\n",
       "      <td>2</td>\n",
       "      <td>2</td>\n",
       "      <td>2BR / 2Ba 1319ft2 available now apartment w/d ...</td>\n",
       "      <td>None</td>\n",
       "      <td>c_7200494004</td>\n",
       "      <td>https://images.craigslist.org/01515_dp6vQPhcMZ...</td>\n",
       "      <td>43.659357</td>\n",
       "      <td>-79.382701</td>\n",
       "      <td>False</td>\n",
       "      <td>2020-09-21</td>\n",
       "      <td>M5G 2K2</td>\n",
       "      <td>4095</td>\n",
       "      <td>apartment</td>\n",
       "      <td>craigslist</td>\n",
       "      <td>1319</td>\n",
       "      <td>Aura Condos | 2 Beds + Den / 2 Baths | Parking</td>\n",
       "      <td>https://toronto.craigslist.org/tor/apa/d/toron...</td>\n",
       "      <td>M</td>\n",
       "    </tr>\n",
       "    <tr>\n",
       "      <th>4</th>\n",
       "      <td>M5A</td>\n",
       "      <td>1</td>\n",
       "      <td>1</td>\n",
       "      <td>1BR / 1Ba available nov 1 apartment w/d in uni...</td>\n",
       "      <td>None</td>\n",
       "      <td>c_7200455622</td>\n",
       "      <td>https://images.craigslist.org/00k0k_biOyCxc3GH...</td>\n",
       "      <td>43.652477</td>\n",
       "      <td>-79.363681</td>\n",
       "      <td>False</td>\n",
       "      <td>2020-09-21</td>\n",
       "      <td>M5A 1K6</td>\n",
       "      <td>1995</td>\n",
       "      <td>suite</td>\n",
       "      <td>craigslist</td>\n",
       "      <td></td>\n",
       "      <td>The King East | 1 Bedroom + 1 Bath</td>\n",
       "      <td>https://toronto.craigslist.org/tor/apa/d/toron...</td>\n",
       "      <td>M</td>\n",
       "    </tr>\n",
       "  </tbody>\n",
       "</table>\n",
       "</div>"
      ],
      "text/plain": [
       "   FSA bathrooms bedrooms                                        description  \\\n",
       "0  M6R         2        2  2BR / 2Ba available oct 1 loft w/d in unit car...   \n",
       "1  M4C         1        2  2BR / 1Ba available now duplex w/d in unit/ 2b...   \n",
       "2  M6H       1.5        2  2BR / 1.5Ba 1200ft2 available oct 1 cats are O...   \n",
       "3  M5G         2        2  2BR / 2Ba 1319ft2 available now apartment w/d ...   \n",
       "4  M5A         1        1  1BR / 1Ba available nov 1 apartment w/d in uni...   \n",
       "\n",
       "  furnished            id                                              image  \\\n",
       "0      None  c_7200538781  https://images.craigslist.org/00Z0Z_betPb5YXm1...   \n",
       "1      None  c_7200537147  https://images.craigslist.org/00J0J_fmjnKOiOAS...   \n",
       "2      None  c_7200474055  https://images.craigslist.org/00k0k_8VUSONV0S6...   \n",
       "3      None  c_7200494004  https://images.craigslist.org/01515_dp6vQPhcMZ...   \n",
       "4      None  c_7200455622  https://images.craigslist.org/00k0k_biOyCxc3GH...   \n",
       "\n",
       "         lat       long  pet_friendly post_published_date postal_code  price  \\\n",
       "0  43.652602 -79.447028         False          2020-09-21     M6R 3A2   4500   \n",
       "1  43.691300 -79.311600         False          2020-09-21     M4C 5J7   2150   \n",
       "2  43.657080 -79.443491          True          2020-09-21     M6H 4A2   2850   \n",
       "3  43.659357 -79.382701         False          2020-09-21     M5G 2K2   4095   \n",
       "4  43.652477 -79.363681         False          2020-09-21     M5A 1K6   1995   \n",
       "\n",
       "  rental_type      source  sqft  \\\n",
       "0        loft  craigslist         \n",
       "1      duplex  craigslist         \n",
       "2   apartment  craigslist  1200   \n",
       "3   apartment  craigslist  1319   \n",
       "4       suite  craigslist         \n",
       "\n",
       "                                               title  \\\n",
       "0     RONCESVALLES-2 BED/2 BATH/1 PARKING-MORROW AVE   \n",
       "1  2 Bedroom Upper Floor Unit for Lease - Woodbin...   \n",
       "2      Brockton Village Main and 2nd Floor Apartment   \n",
       "3     Aura Condos | 2 Beds + Den / 2 Baths | Parking   \n",
       "4                 The King East | 1 Bedroom + 1 Bath   \n",
       "\n",
       "                                                 url first  \n",
       "0  https://toronto.craigslist.org/tor/apa/d/toron...     M  \n",
       "1  https://toronto.craigslist.org/tor/apa/d/east-...     M  \n",
       "2  https://toronto.craigslist.org/tor/apa/d/toron...     M  \n",
       "3  https://toronto.craigslist.org/tor/apa/d/toron...     M  \n",
       "4  https://toronto.craigslist.org/tor/apa/d/toron...     M  "
      ]
     },
     "execution_count": 310,
     "metadata": {},
     "output_type": "execute_result"
    }
   ],
   "source": [
    "df.head()"
   ]
  },
  {
   "cell_type": "code",
   "execution_count": 260,
   "metadata": {},
   "outputs": [],
   "source": [
    "df[\"first\"] = df['FSA'].astype(str).str[0]"
   ]
  },
  {
   "cell_type": "code",
   "execution_count": 361,
   "metadata": {},
   "outputs": [],
   "source": [
    "df_cleaned_full = df.loc[(df['first'] == \"M\") \n",
    "                         & (df[\"price\"] < 10000) \n",
    "                         & (df[\"bedrooms\"] != 0) \n",
    "                         & (df[\"bedrooms\"]!= \"\") \n",
    "                         & (df[\"post_published_date\"] > \"2020-09-18\")]"
   ]
  },
  {
   "cell_type": "code",
   "execution_count": 362,
   "metadata": {},
   "outputs": [],
   "source": [
    "df_cleaned_oneortwo = df_cleaned_full.loc[(df_cleaned_full[\"bedrooms\"] == 1) | (df_cleaned_full[\"bedrooms\"] == 2)]"
   ]
  },
  {
   "cell_type": "code",
   "execution_count": 363,
   "metadata": {},
   "outputs": [],
   "source": [
    "#find mean by no. of bedrooms and FSA\n",
    "df_aggregate_oneortwo = df_cleaned_oneortwo.groupby([\"FSA\", \"post_published_date\", \"bedrooms\"])[\"price\"].mean()"
   ]
  },
  {
   "cell_type": "code",
   "execution_count": 364,
   "metadata": {},
   "outputs": [],
   "source": [
    "df_intermediate_oneortwo= df_aggregate_oneortwo.reset_index()"
   ]
  },
  {
   "cell_type": "code",
   "execution_count": 365,
   "metadata": {},
   "outputs": [],
   "source": [
    "df_overall_oneortwo = df_cleaned_oneortwo.groupby([\"post_published_date\", \"bedrooms\"])[\"price\"].mean()"
   ]
  },
  {
   "cell_type": "code",
   "execution_count": 366,
   "metadata": {},
   "outputs": [],
   "source": [
    "df_overall_intermediate_oneortwo= df_overall_oneortwo.reset_index()"
   ]
  },
  {
   "cell_type": "code",
   "execution_count": 367,
   "metadata": {},
   "outputs": [],
   "source": [
    "df_overall_intermediate_oneortwo[\"FSA\"] = \"Overall\""
   ]
  },
  {
   "cell_type": "code",
   "execution_count": 368,
   "metadata": {},
   "outputs": [],
   "source": [
    "df_cleaned_threeormore = df_cleaned_full.loc[df_cleaned_full[\"bedrooms\"] > 2]"
   ]
  },
  {
   "cell_type": "code",
   "execution_count": 369,
   "metadata": {},
   "outputs": [],
   "source": [
    "df_overall_threeormore = df_cleaned_threeormore.groupby([\"post_published_date\"])[\"price\"].mean()"
   ]
  },
  {
   "cell_type": "code",
   "execution_count": 370,
   "metadata": {},
   "outputs": [],
   "source": [
    "df_overall_intermediate_threeormore= df_overall_threeormore.reset_index()"
   ]
  },
  {
   "cell_type": "code",
   "execution_count": 371,
   "metadata": {},
   "outputs": [],
   "source": [
    "df_overall_intermediate_threeormore[\"FSA\"] = \"Overall\""
   ]
  },
  {
   "cell_type": "code",
   "execution_count": 372,
   "metadata": {},
   "outputs": [],
   "source": [
    "df_overall_intermediate_threeormore[\"bedrooms\"] = \"3 or More\""
   ]
  },
  {
   "cell_type": "code",
   "execution_count": 373,
   "metadata": {},
   "outputs": [],
   "source": [
    "df_threeormore = df_cleaned_threeormore.groupby([\"FSA\", \"post_published_date\"])[\"price\"].mean()"
   ]
  },
  {
   "cell_type": "code",
   "execution_count": 374,
   "metadata": {},
   "outputs": [],
   "source": [
    "df_threeormore_intermediate= df_threeormore.reset_index()"
   ]
  },
  {
   "cell_type": "code",
   "execution_count": 375,
   "metadata": {},
   "outputs": [],
   "source": [
    "df_threeormore_intermediate[\"bedrooms\"] = \"3 or More\""
   ]
  },
  {
   "cell_type": "code",
   "execution_count": 377,
   "metadata": {},
   "outputs": [],
   "source": [
    "full_df = pd.concat([df_intermediate_oneortwo, df_threeormore_intermediate, df_overall_intermediate_oneortwo, df_overall_intermediate_threeormore], sort=True, ignore_index=True)"
   ]
  },
  {
   "cell_type": "code",
   "execution_count": 380,
   "metadata": {},
   "outputs": [],
   "source": [
    "full_df.rename(columns={\"price\" : \"average_price\"}, inplace=True)"
   ]
  },
  {
   "cell_type": "code",
   "execution_count": 381,
   "metadata": {},
   "outputs": [],
   "source": [
    "#save to file\n",
    "full_df.to_json(\"RentalPrice.json\")"
   ]
  },
  {
   "cell_type": "code",
   "execution_count": 382,
   "metadata": {},
   "outputs": [],
   "source": [
    "#save to file\n",
    "full_df.to_csv(\"RentalPrice.csv\")"
   ]
  }
 ],
 "metadata": {
  "kernelspec": {
   "display_name": "Python 3",
   "language": "python",
   "name": "python3"
  },
  "language_info": {
   "codemirror_mode": {
    "name": "ipython",
    "version": 3
   },
   "file_extension": ".py",
   "mimetype": "text/x-python",
   "name": "python",
   "nbconvert_exporter": "python",
   "pygments_lexer": "ipython3",
   "version": "3.7.6"
  }
 },
 "nbformat": 4,
 "nbformat_minor": 4
}
