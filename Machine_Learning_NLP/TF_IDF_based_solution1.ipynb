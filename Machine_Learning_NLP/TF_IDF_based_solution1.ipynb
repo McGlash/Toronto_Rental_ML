{
 "cells": [
  {
   "cell_type": "markdown",
   "metadata": {},
   "source": [
    "# Steps\n",
    "- Tokenize\n",
    "- Preprocessing\n",
    "- Selective stopwords removal\n",
    "- Decide the vocabulary size\n",
    "- TF-IDF (Bag of Words)\n",
    "- Implementation\n",
    "- Implementation on new data\n",
    "- Incorporate on flask\n",
    "- Incorporate in the webpage"
   ]
  },
  {
   "cell_type": "code",
   "execution_count": 1,
   "metadata": {},
   "outputs": [],
   "source": [
    "from IPython.core.interactiveshell import InteractiveShell\n",
    "InteractiveShell.ast_node_interactivity = 'all'"
   ]
  },
  {
   "cell_type": "code",
   "execution_count": 46,
   "metadata": {},
   "outputs": [],
   "source": [
    "# Dependencies\n",
    "from pymongo import MongoClient\n",
    "import pandas as pd\n",
    "import re\n",
    "\n",
    "import nltk\n",
    "import string\n",
    "\n",
    "from urls_list import * #where all urls and paths are saved\n"
   ]
  },
  {
   "cell_type": "markdown",
   "metadata": {},
   "source": [
    "## Read the historic rental data"
   ]
  },
  {
   "cell_type": "code",
   "execution_count": 90,
   "metadata": {},
   "outputs": [],
   "source": [
    "from urls_list import * #where all urls and paths are saved\n",
    "client = MongoClient(db_connection_string)\n",
    "records = list(client.ETLInsights[\"HistoricRental\"].find({}, {'_id':0}))"
   ]
  },
  {
   "cell_type": "code",
   "execution_count": 91,
   "metadata": {},
   "outputs": [],
   "source": [
    "DF = pd.DataFrame(records)"
   ]
  },
  {
   "cell_type": "code",
   "execution_count": 92,
   "metadata": {},
   "outputs": [],
   "source": [
    "DF_NLP = DF[['id', 'description']]"
   ]
  },
  {
   "cell_type": "code",
   "execution_count": 93,
   "metadata": {},
   "outputs": [
    {
     "data": {
      "text/html": [
       "<div>\n",
       "<style scoped>\n",
       "    .dataframe tbody tr th:only-of-type {\n",
       "        vertical-align: middle;\n",
       "    }\n",
       "\n",
       "    .dataframe tbody tr th {\n",
       "        vertical-align: top;\n",
       "    }\n",
       "\n",
       "    .dataframe thead th {\n",
       "        text-align: right;\n",
       "    }\n",
       "</style>\n",
       "<table border=\"1\" class=\"dataframe\">\n",
       "  <thead>\n",
       "    <tr style=\"text-align: right;\">\n",
       "      <th></th>\n",
       "      <th>id</th>\n",
       "      <th>description</th>\n",
       "    </tr>\n",
       "  </thead>\n",
       "  <tbody>\n",
       "    <tr>\n",
       "      <th>0</th>\n",
       "      <td>c_7195819164</td>\n",
       "      <td>1BR / 0Ba furnished apartment/ 1br -Brand new ...</td>\n",
       "    </tr>\n",
       "    <tr>\n",
       "      <th>1</th>\n",
       "      <td>c_7195700072</td>\n",
       "      <td>1BR / 0Ba furnished apartment/ 1br -Spectacula...</td>\n",
       "    </tr>\n",
       "    <tr>\n",
       "      <th>2</th>\n",
       "      <td>c_7200564066</td>\n",
       "      <td>2BR / 2Ba 1100ft2 available nov 1 cats are OK ...</td>\n",
       "    </tr>\n",
       "    <tr>\n",
       "      <th>3</th>\n",
       "      <td>c_7196251096</td>\n",
       "      <td>2BR / 2Ba available nov 15 loft w/d in unit at...</td>\n",
       "    </tr>\n",
       "    <tr>\n",
       "      <th>4</th>\n",
       "      <td>c_7195818373</td>\n",
       "      <td>1BR / 0Ba furnished apartment/ 1br -Newly reno...</td>\n",
       "    </tr>\n",
       "    <tr>\n",
       "      <th>...</th>\n",
       "      <td>...</td>\n",
       "      <td>...</td>\n",
       "    </tr>\n",
       "    <tr>\n",
       "      <th>11208</th>\n",
       "      <td>c_7224082345</td>\n",
       "      <td>4BR / 5Ba dogs are OK - wooof furnished apartm...</td>\n",
       "    </tr>\n",
       "    <tr>\n",
       "      <th>11209</th>\n",
       "      <td>c_7224085040</td>\n",
       "      <td>2BR / 1.5Ba dogs are OK - wooof furnished apar...</td>\n",
       "    </tr>\n",
       "    <tr>\n",
       "      <th>11210</th>\n",
       "      <td>c_7224083392</td>\n",
       "      <td>1BR / 2Ba furnished apartment no smoking/ 1br ...</td>\n",
       "    </tr>\n",
       "    <tr>\n",
       "      <th>11211</th>\n",
       "      <td>c_7224084157</td>\n",
       "      <td>2BR / 1Ba apartment/ 2br -Unit #1 on main floo...</td>\n",
       "    </tr>\n",
       "    <tr>\n",
       "      <th>11212</th>\n",
       "      <td>c_7223935111</td>\n",
       "      <td>2BR / 1Ba available now apartment/ 2br -2 BEDR...</td>\n",
       "    </tr>\n",
       "  </tbody>\n",
       "</table>\n",
       "<p>11213 rows × 2 columns</p>\n",
       "</div>"
      ],
      "text/plain": [
       "                 id                                        description\n",
       "0      c_7195819164  1BR / 0Ba furnished apartment/ 1br -Brand new ...\n",
       "1      c_7195700072  1BR / 0Ba furnished apartment/ 1br -Spectacula...\n",
       "2      c_7200564066  2BR / 2Ba 1100ft2 available nov 1 cats are OK ...\n",
       "3      c_7196251096  2BR / 2Ba available nov 15 loft w/d in unit at...\n",
       "4      c_7195818373  1BR / 0Ba furnished apartment/ 1br -Newly reno...\n",
       "...             ...                                                ...\n",
       "11208  c_7224082345  4BR / 5Ba dogs are OK - wooof furnished apartm...\n",
       "11209  c_7224085040  2BR / 1.5Ba dogs are OK - wooof furnished apar...\n",
       "11210  c_7224083392  1BR / 2Ba furnished apartment no smoking/ 1br ...\n",
       "11211  c_7224084157  2BR / 1Ba apartment/ 2br -Unit #1 on main floo...\n",
       "11212  c_7223935111  2BR / 1Ba available now apartment/ 2br -2 BEDR...\n",
       "\n",
       "[11213 rows x 2 columns]"
      ]
     },
     "execution_count": 93,
     "metadata": {},
     "output_type": "execute_result"
    }
   ],
   "source": [
    "DF_NLP"
   ]
  },
  {
   "cell_type": "code",
   "execution_count": 94,
   "metadata": {},
   "outputs": [],
   "source": [
    "#Convert all special characters to space except '.', lower case\n",
    "#DF_NLP.loc[:,'clean1'] = DF_NLP['description'].map(lambda x: re.sub(r'[^0-9a-zA-Z.]', ' ', x.lower())).copy()\n",
    "\n"
   ]
  },
  {
   "cell_type": "code",
   "execution_count": 95,
   "metadata": {},
   "outputs": [],
   "source": [
    "#Tokenize the documents, strip punctuations and stemming, \n",
    "def tokenize(text):\n",
    "    stem = nltk.stem.SnowballStemmer('english')\n",
    "    text = re.sub(r'[^0-9a-zA-Z.]', ' ', text.lower())\n",
    "    tokens = []\n",
    "\n",
    "    for token in nltk.word_tokenize(text):\n",
    "        if token not in string.punctuation:\n",
    "            tokens.append(stem.stem(token))\n",
    "    return tokens"
   ]
  },
  {
   "cell_type": "code",
   "execution_count": 96,
   "metadata": {},
   "outputs": [
    {
     "name": "stderr",
     "output_type": "stream",
     "text": [
      "/Users/bincynarath/opt/miniconda3/lib/python3.8/site-packages/pandas/core/indexing.py:845: SettingWithCopyWarning: \n",
      "A value is trying to be set on a copy of a slice from a DataFrame.\n",
      "Try using .loc[row_indexer,col_indexer] = value instead\n",
      "\n",
      "See the caveats in the documentation: https://pandas.pydata.org/pandas-docs/stable/user_guide/indexing.html#returning-a-view-versus-a-copy\n",
      "  self.obj[key] = _infer_fill_value(value)\n",
      "/Users/bincynarath/opt/miniconda3/lib/python3.8/site-packages/pandas/core/indexing.py:966: SettingWithCopyWarning: \n",
      "A value is trying to be set on a copy of a slice from a DataFrame.\n",
      "Try using .loc[row_indexer,col_indexer] = value instead\n",
      "\n",
      "See the caveats in the documentation: https://pandas.pydata.org/pandas-docs/stable/user_guide/indexing.html#returning-a-view-versus-a-copy\n",
      "  self.obj[item] = s\n"
     ]
    }
   ],
   "source": [
    "DF_NLP.loc[:,'Tokens'] = DF_NLP['description'].map(lambda x: [item for item in tokenize(x)]).copy()"
   ]
  },
  {
   "cell_type": "markdown",
   "metadata": {},
   "source": [
    "Frequency Vectors\n",
    "The simplest vector encoding model is to simply fill in the vector with the frequency of each word as it appears in the document. In this encoding scheme, each document is represented as the multiset of the tokens that compose it and the value for each word position in the vector is its count. This representation can either be a straight count (integer) encoding or a normalized encoding where each word is weighted by the total number of words in the document."
   ]
  },
  {
   "cell_type": "code",
   "execution_count": 89,
   "metadata": {},
   "outputs": [],
   "source": [
    "from collections import defaultdict\n",
    "#Tokenize and vectorize together\n",
    "def vectorize(doc):\n",
    "    features = defaultdict(int)\n",
    "    for token in tokenize(doc):\n",
    "        features[token] += 1\n",
    "    return features"
   ]
  },
  {
   "cell_type": "code",
   "execution_count": 99,
   "metadata": {},
   "outputs": [
    {
     "name": "stderr",
     "output_type": "stream",
     "text": [
      "/Users/bincynarath/opt/miniconda3/lib/python3.8/site-packages/pandas/core/indexing.py:1048: SettingWithCopyWarning: \n",
      "A value is trying to be set on a copy of a slice from a DataFrame.\n",
      "Try using .loc[row_indexer,col_indexer] = value instead\n",
      "\n",
      "See the caveats in the documentation: https://pandas.pydata.org/pandas-docs/stable/user_guide/indexing.html#returning-a-view-versus-a-copy\n",
      "  self.obj[item_labels[indexer[info_axis]]] = value\n"
     ]
    }
   ],
   "source": [
    "DF_NLP.loc[:,'Vectors'] = DF_NLP['description'].map(lambda x: vectorize(x))"
   ]
  },
  {
   "cell_type": "code",
   "execution_count": 100,
   "metadata": {},
   "outputs": [
    {
     "data": {
      "text/html": [
       "<div>\n",
       "<style scoped>\n",
       "    .dataframe tbody tr th:only-of-type {\n",
       "        vertical-align: middle;\n",
       "    }\n",
       "\n",
       "    .dataframe tbody tr th {\n",
       "        vertical-align: top;\n",
       "    }\n",
       "\n",
       "    .dataframe thead th {\n",
       "        text-align: right;\n",
       "    }\n",
       "</style>\n",
       "<table border=\"1\" class=\"dataframe\">\n",
       "  <thead>\n",
       "    <tr style=\"text-align: right;\">\n",
       "      <th></th>\n",
       "      <th>id</th>\n",
       "      <th>description</th>\n",
       "      <th>Tokens</th>\n",
       "      <th>Vectors</th>\n",
       "    </tr>\n",
       "  </thead>\n",
       "  <tbody>\n",
       "    <tr>\n",
       "      <th>0</th>\n",
       "      <td>c_7195819164</td>\n",
       "      <td>1BR / 0Ba furnished apartment/ 1br -Brand new ...</td>\n",
       "      <td>[1br, 0ba, furnish, apart, 1br, brand, new, on...</td>\n",
       "      <td>{'1br': 2, '0ba': 1, 'furnish': 1, 'apart': 1,...</td>\n",
       "    </tr>\n",
       "    <tr>\n",
       "      <th>1</th>\n",
       "      <td>c_7195700072</td>\n",
       "      <td>1BR / 0Ba furnished apartment/ 1br -Spectacula...</td>\n",
       "      <td>[1br, 0ba, furnish, apart, 1br, spectacular, 8...</td>\n",
       "      <td>{'1br': 2, '0ba': 1, 'furnish': 1, 'apart': 1,...</td>\n",
       "    </tr>\n",
       "    <tr>\n",
       "      <th>2</th>\n",
       "      <td>c_7200564066</td>\n",
       "      <td>2BR / 2Ba 1100ft2 available nov 1 cats are OK ...</td>\n",
       "      <td>[2br, 2ba, 1100ft2, avail, nov, 1, cat, are, o...</td>\n",
       "      <td>{'2br': 2, '2ba': 1, '1100ft2': 2, 'avail': 2,...</td>\n",
       "    </tr>\n",
       "    <tr>\n",
       "      <th>3</th>\n",
       "      <td>c_7196251096</td>\n",
       "      <td>2BR / 2Ba available nov 15 loft w/d in unit at...</td>\n",
       "      <td>[2br, 2ba, avail, nov, 15, loft, w, d, in, uni...</td>\n",
       "      <td>{'2br': 2, '2ba': 1, 'avail': 2, 'nov': 2, '15...</td>\n",
       "    </tr>\n",
       "    <tr>\n",
       "      <th>4</th>\n",
       "      <td>c_7195818373</td>\n",
       "      <td>1BR / 0Ba furnished apartment/ 1br -Newly reno...</td>\n",
       "      <td>[1br, 0ba, furnish, apart, 1br, newli, renov, ...</td>\n",
       "      <td>{'1br': 2, '0ba': 1, 'furnish': 1, 'apart': 2,...</td>\n",
       "    </tr>\n",
       "    <tr>\n",
       "      <th>...</th>\n",
       "      <td>...</td>\n",
       "      <td>...</td>\n",
       "      <td>...</td>\n",
       "      <td>...</td>\n",
       "    </tr>\n",
       "    <tr>\n",
       "      <th>11208</th>\n",
       "      <td>c_7224082345</td>\n",
       "      <td>4BR / 5Ba dogs are OK - wooof furnished apartm...</td>\n",
       "      <td>[4br, 5ba, dog, are, ok, wooof, furnish, apart...</td>\n",
       "      <td>{'4br': 2, '5ba': 1, 'dog': 1, 'are': 1, 'ok':...</td>\n",
       "    </tr>\n",
       "    <tr>\n",
       "      <th>11209</th>\n",
       "      <td>c_7224085040</td>\n",
       "      <td>2BR / 1.5Ba dogs are OK - wooof furnished apar...</td>\n",
       "      <td>[2br, 1.5ba, dog, are, ok, wooof, furnish, apa...</td>\n",
       "      <td>{'2br': 2, '1.5ba': 1, 'dog': 1, 'are': 1, 'ok...</td>\n",
       "    </tr>\n",
       "    <tr>\n",
       "      <th>11210</th>\n",
       "      <td>c_7224083392</td>\n",
       "      <td>1BR / 2Ba furnished apartment no smoking/ 1br ...</td>\n",
       "      <td>[1br, 2ba, furnish, apart, no, smoke, 1br, 2, ...</td>\n",
       "      <td>{'1br': 2, '2ba': 1, 'furnish': 1, 'apart': 1,...</td>\n",
       "    </tr>\n",
       "    <tr>\n",
       "      <th>11211</th>\n",
       "      <td>c_7224084157</td>\n",
       "      <td>2BR / 1Ba apartment/ 2br -Unit #1 on main floo...</td>\n",
       "      <td>[2br, 1ba, apart, 2br, unit, 1, on, main, floo...</td>\n",
       "      <td>{'2br': 2, '1ba': 1, 'apart': 1, 'unit': 3, '1...</td>\n",
       "    </tr>\n",
       "    <tr>\n",
       "      <th>11212</th>\n",
       "      <td>c_7223935111</td>\n",
       "      <td>2BR / 1Ba available now apartment/ 2br -2 BEDR...</td>\n",
       "      <td>[2br, 1ba, avail, now, apart, 2br, 2, bedroom,...</td>\n",
       "      <td>{'2br': 2, '1ba': 1, 'avail': 2, 'now': 1, 'ap...</td>\n",
       "    </tr>\n",
       "  </tbody>\n",
       "</table>\n",
       "<p>11213 rows × 4 columns</p>\n",
       "</div>"
      ],
      "text/plain": [
       "                 id                                        description  \\\n",
       "0      c_7195819164  1BR / 0Ba furnished apartment/ 1br -Brand new ...   \n",
       "1      c_7195700072  1BR / 0Ba furnished apartment/ 1br -Spectacula...   \n",
       "2      c_7200564066  2BR / 2Ba 1100ft2 available nov 1 cats are OK ...   \n",
       "3      c_7196251096  2BR / 2Ba available nov 15 loft w/d in unit at...   \n",
       "4      c_7195818373  1BR / 0Ba furnished apartment/ 1br -Newly reno...   \n",
       "...             ...                                                ...   \n",
       "11208  c_7224082345  4BR / 5Ba dogs are OK - wooof furnished apartm...   \n",
       "11209  c_7224085040  2BR / 1.5Ba dogs are OK - wooof furnished apar...   \n",
       "11210  c_7224083392  1BR / 2Ba furnished apartment no smoking/ 1br ...   \n",
       "11211  c_7224084157  2BR / 1Ba apartment/ 2br -Unit #1 on main floo...   \n",
       "11212  c_7223935111  2BR / 1Ba available now apartment/ 2br -2 BEDR...   \n",
       "\n",
       "                                                  Tokens  \\\n",
       "0      [1br, 0ba, furnish, apart, 1br, brand, new, on...   \n",
       "1      [1br, 0ba, furnish, apart, 1br, spectacular, 8...   \n",
       "2      [2br, 2ba, 1100ft2, avail, nov, 1, cat, are, o...   \n",
       "3      [2br, 2ba, avail, nov, 15, loft, w, d, in, uni...   \n",
       "4      [1br, 0ba, furnish, apart, 1br, newli, renov, ...   \n",
       "...                                                  ...   \n",
       "11208  [4br, 5ba, dog, are, ok, wooof, furnish, apart...   \n",
       "11209  [2br, 1.5ba, dog, are, ok, wooof, furnish, apa...   \n",
       "11210  [1br, 2ba, furnish, apart, no, smoke, 1br, 2, ...   \n",
       "11211  [2br, 1ba, apart, 2br, unit, 1, on, main, floo...   \n",
       "11212  [2br, 1ba, avail, now, apart, 2br, 2, bedroom,...   \n",
       "\n",
       "                                                 Vectors  \n",
       "0      {'1br': 2, '0ba': 1, 'furnish': 1, 'apart': 1,...  \n",
       "1      {'1br': 2, '0ba': 1, 'furnish': 1, 'apart': 1,...  \n",
       "2      {'2br': 2, '2ba': 1, '1100ft2': 2, 'avail': 2,...  \n",
       "3      {'2br': 2, '2ba': 1, 'avail': 2, 'nov': 2, '15...  \n",
       "4      {'1br': 2, '0ba': 1, 'furnish': 1, 'apart': 2,...  \n",
       "...                                                  ...  \n",
       "11208  {'4br': 2, '5ba': 1, 'dog': 1, 'are': 1, 'ok':...  \n",
       "11209  {'2br': 2, '1.5ba': 1, 'dog': 1, 'are': 1, 'ok...  \n",
       "11210  {'1br': 2, '2ba': 1, 'furnish': 1, 'apart': 1,...  \n",
       "11211  {'2br': 2, '1ba': 1, 'apart': 1, 'unit': 3, '1...  \n",
       "11212  {'2br': 2, '1ba': 1, 'avail': 2, 'now': 1, 'ap...  \n",
       "\n",
       "[11213 rows x 4 columns]"
      ]
     },
     "execution_count": 100,
     "metadata": {},
     "output_type": "execute_result"
    }
   ],
   "source": [
    "DF_NLP"
   ]
  },
  {
   "cell_type": "markdown",
   "metadata": {},
   "source": [
    "## Sci-kit Learn"
   ]
  },
  {
   "cell_type": "markdown",
   "metadata": {},
   "source": [
    "The CountVectorizer transformer from the sklearn.feature_extraction model has its own internal tokenization and normalization methods. The fit method of the vectorizer expects an iterable or list of strings or file objects, and creates a dictionary of the vocabulary on the corpus. When transform is called, each individual document is transformed into a sparse array whose index tuple is the row (the document ID) and the token ID from the dictionary, and whose value is the count:"
   ]
  },
  {
   "cell_type": "code",
   "execution_count": 101,
   "metadata": {},
   "outputs": [
    {
     "data": {
      "text/plain": [
       "CountVectorizer()"
      ]
     },
     "execution_count": 101,
     "metadata": {},
     "output_type": "execute_result"
    }
   ],
   "source": [
    "from sklearn.feature_extraction.text import CountVectorizer\n",
    "\n",
    "vectorizer = CountVectorizer()\n",
    "vectorizer.fit(DF_NLP['description'])"
   ]
  },
  {
   "cell_type": "code",
   "execution_count": 103,
   "metadata": {},
   "outputs": [],
   "source": [
    "vectors = vectorizer.transform(DF_NLP['description'])"
   ]
  },
  {
   "cell_type": "code",
   "execution_count": 122,
   "metadata": {},
   "outputs": [],
   "source": [
    "#vectors.toarray()"
   ]
  },
  {
   "cell_type": "code",
   "execution_count": 112,
   "metadata": {},
   "outputs": [],
   "source": [
    "#vectorizer.get_feature_names()"
   ]
  },
  {
   "cell_type": "markdown",
   "metadata": {},
   "source": [
    "## The Gensim way"
   ]
  },
  {
   "cell_type": "markdown",
   "metadata": {},
   "source": [
    "Gensim’s frequency encoder is called doc2bow. \n",
    "To use doc2bow, we first create a Gensim Dictionary that maps tokens to indices based on observed order (eliminating the overhead of lexicographic sorting). The dictionary object can be loaded or saved to disk, and implements a doc2bow library that accepts a pretokenized document and returns a sparse matrix of (id, count) tuples where the id is the token’s id in the dictionary."
   ]
  },
  {
   "cell_type": "code",
   "execution_count": 129,
   "metadata": {},
   "outputs": [],
   "source": [
    "import gensim"
   ]
  },
  {
   "cell_type": "code",
   "execution_count": null,
   "metadata": {},
   "outputs": [],
   "source": []
  }
 ],
 "metadata": {
  "kernelspec": {
   "display_name": "Python 3",
   "language": "python",
   "name": "python3"
  },
  "language_info": {
   "codemirror_mode": {
    "name": "ipython",
    "version": 3
   },
   "file_extension": ".py",
   "mimetype": "text/x-python",
   "name": "python",
   "nbconvert_exporter": "python",
   "pygments_lexer": "ipython3",
   "version": "3.8.1"
  }
 },
 "nbformat": 4,
 "nbformat_minor": 4
}
